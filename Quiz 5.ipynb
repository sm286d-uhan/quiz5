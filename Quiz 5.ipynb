{
 "cells": [
  {
   "cell_type": "markdown",
   "metadata": {},
   "source": [
    "<h4 class='prehead'>SM286D &middot; Introduction to Applied Mathematics with Python &middot; Spring 2020 &middot; Uhan</h4>\n",
    "\n",
    "<h1 class='lesson_title'>Quiz 5 &mdash; 26 March 2020</h1>"
   ]
  },
  {
   "cell_type": "markdown",
   "metadata": {},
   "source": [
    "## Instructions"
   ]
  },
  {
   "cell_type": "markdown",
   "metadata": {},
   "source": [
    "You have 25 minutes to complete this quiz. __This quiz is due on Thursday 26 March at 23:59.__\n",
    "\n",
    "You may use your own course materials (e.g. notes, textbook), as well as any materials directly linked from the [class website](https://www.usna.edu/Users/math/uhan/sm286d/). __No collaboration allowed.__ All work in this quiz must be your own.\n",
    "\n",
    "There are a total of 4 problems, worth 15 points.\n",
    "\n",
    "Save your work frequently! When you are finished, submit this file using the SM286D Assignment Submission Form linked on the [class website](https://www.usna.edu/Users/math/uhan/sm286d/)."
   ]
  },
  {
   "cell_type": "markdown",
   "metadata": {},
   "source": [
    "---"
   ]
  },
  {
   "cell_type": "markdown",
   "metadata": {},
   "source": [
    "## Your signature required here"
   ]
  },
  {
   "cell_type": "markdown",
   "metadata": {},
   "source": [
    "By typing your name in the box below, you pledge on your honor that you have used only the allotted time, that you have not used any unauthorized materials, and that you have not given or received any unauthorized assistance."
   ]
  },
  {
   "cell_type": "markdown",
   "metadata": {},
   "source": [
    "<span style=\"color:red\"><strong>WRITE YOUR NAME IN THIS BOX. DOUBLE-CLICK TO EDIT.</strong></span>"
   ]
  },
  {
   "cell_type": "markdown",
   "metadata": {},
   "source": [
    "---"
   ]
  },
  {
   "cell_type": "markdown",
   "metadata": {},
   "source": [
    "## Problem 1 (4 points)"
   ]
  },
  {
   "cell_type": "markdown",
   "metadata": {},
   "source": [
    "Consider the graph $G$ below in Figure 1."
   ]
  },
  {
   "cell_type": "markdown",
   "metadata": {},
   "source": [
    "<img src=\"img/graph_quiz_5a.png\" alt=\"Drawing\" style=\"width: 400px;\"/>"
   ]
  },
  {
   "cell_type": "markdown",
   "metadata": {},
   "source": [
    "<center> Figure 1: The graph of $G$. </center>"
   ]
  },
  {
   "cell_type": "markdown",
   "metadata": {},
   "source": [
    "The code in the cell below starts to define the adjacency matrix $A$ for the graph $G$.  \n",
    "\n",
    "Replace __only__ the `...` in the code below with appropriate values to complete the definition of $A$."
   ]
  },
  {
   "cell_type": "code",
   "execution_count": 1,
   "metadata": {},
   "outputs": [],
   "source": [
    "import numpy as np\n",
    "\n",
    "A = np.zeros([8, 8])\n",
    "A[0, [1, 2]] = 1\n",
    "A[1, [0, 2, 3, 5]] = 1\n",
    "A[2, [0, 1, 4, 6]] = 1\n",
    "A[3, [1, 4, 5, 7]] = 1\n",
    "A[4, [2 ,3, 6, 7]] = 1\n",
    "A[5, [1, 3]] = 1\n",
    "A[6, [2, 4]] = 1\n",
    "A[7, [3, 4]] = 1"
   ]
  },
  {
   "cell_type": "markdown",
   "metadata": {},
   "source": [
    "## Problem 2 (1 point)"
   ]
  },
  {
   "cell_type": "markdown",
   "metadata": {},
   "source": [
    "Use NetworkX and the adjacency matrix $A$ from Problem 1 to define the graph $G$ in Figure 1, by replacing the `...` below with appropriate code."
   ]
  },
  {
   "cell_type": "code",
   "execution_count": 2,
   "metadata": {},
   "outputs": [],
   "source": [
    "import networkx as nx\n",
    "G = nx.Graph(A)"
   ]
  },
  {
   "cell_type": "markdown",
   "metadata": {},
   "source": [
    "## Problem 3 (4 points)"
   ]
  },
  {
   "cell_type": "markdown",
   "metadata": {},
   "source": [
    "Use the method `G.nodes()` to define a list called `nodes_list` consisting of the nodes of `G`. Then loop over `nodes_list` and use the method `G.neighbors(n)` to print the list of neighbors for each node in the graph $G$. Your output should look like this:\n",
    "\n",
    "```\n",
    "The neighbors of node 0 are the elements of the list [1, 2].\n",
    "The neighbors of node 1 are the elements of the list [0, 2, 3, 5].\n",
    "The neighbors of node 2 are the elements of the list [0, 1, 4, 6].\n",
    "The neighbors of node 3 are the elements of the list DETERMINED BY YOUR CODE.\n",
    "The neighbors of node 4 are the elements of the list DETERMINED BY YOUR CODE.\n",
    "The neighbors of node 5 are the elements of the list DETERMINED BY YOUR CODE.\n",
    "The neighbors of node 6 are the elements of the list DETERMINED BY YOUR CODE.\n",
    "The neighbors of node 7 are the elements of the list DETERMINED BY YOUR CODE.\n",
    "```\n",
    "\n",
    "If you were unable to correctly answer Problems 1 or 2, or if you can't get the methods of `G` to work properly, you can earn partial credit by producing the output above manually: in other words, create and print the sentences above manually by looking at the graph $G$ given in Figure 1."
   ]
  },
  {
   "cell_type": "code",
   "execution_count": 3,
   "metadata": {},
   "outputs": [
    {
     "name": "stdout",
     "output_type": "stream",
     "text": [
      "The neighbors of node 0 are the elements of the list [1, 2].\n",
      "The neighbors of node 1 are the elements of the list [0, 2, 3, 5].\n",
      "The neighbors of node 2 are the elements of the list [0, 1, 4, 6].\n",
      "The neighbors of node 3 are the elements of the list [1, 4, 5, 7].\n",
      "The neighbors of node 4 are the elements of the list [2, 3, 6, 7].\n",
      "The neighbors of node 5 are the elements of the list [1, 3].\n",
      "The neighbors of node 6 are the elements of the list [2, 4].\n",
      "The neighbors of node 7 are the elements of the list [3, 4].\n"
     ]
    }
   ],
   "source": [
    "# First use G.nodes() to define the list nodes_list\n",
    "nodes_list = list(G.nodes())\n",
    "\n",
    "# Write your for loop below\n",
    "for n in nodes_list:\n",
    "    node_neighbors = list(G.neighbors(n))\n",
    "    print(f'The neighbors of node {n} are the elements of the list {node_neighbors}.')"
   ]
  },
  {
   "cell_type": "markdown",
   "metadata": {},
   "source": [
    "## Problem 4 (6 points total)"
   ]
  },
  {
   "cell_type": "markdown",
   "metadata": {},
   "source": [
    "For this problem, you will use the matrices $B$ and $C$ defined below.\n",
    "\n",
    "\\begin{equation*}\n",
    "B = \\begin{bmatrix}  2 & 0 & 1 & 3\\\\\n",
    "0 & 2 & 3 & 4\\\\\n",
    "0 & 4 & 5 & 1\\\\\n",
    "1 & 2 & 7 & 6\\end{bmatrix}\n",
    "\\end{equation*}\n",
    "\n",
    "\\begin{equation*}\n",
    "C = \\begin{bmatrix}  2 & 4 & 6 \\\\\n",
    "1 & 3 & 5 \\\\\n",
    "0 & 1 & 2 \\\\\n",
    "3 & 5 & 2\\end{bmatrix}\n",
    "\\end{equation*}"
   ]
  },
  {
   "cell_type": "markdown",
   "metadata": {},
   "source": [
    "### a. (2 points)\n",
    "In the code cell below, the matrix $B$ is correctly defined.  Replace `...` and write similar code to correctly define $C$."
   ]
  },
  {
   "cell_type": "code",
   "execution_count": 4,
   "metadata": {},
   "outputs": [],
   "source": [
    "B = np.array([[2, 0, 1, 3], [0, 2, 3, 4], [0, 4, 5, 1], [1, 2, 7, 6]])\n",
    "C = np.array([[2, 4, 6], [1, 3, 5], [0, 1, 2], [3, 5, 2]])"
   ]
  },
  {
   "cell_type": "markdown",
   "metadata": {},
   "source": [
    "### b. (2 points) \n",
    "Find and print $BC$. (Note that this is __matrix__ multiplication.)"
   ]
  },
  {
   "cell_type": "code",
   "execution_count": 5,
   "metadata": {},
   "outputs": [
    {
     "name": "stdout",
     "output_type": "stream",
     "text": [
      "[[13 24 20]\n",
      " [14 29 24]\n",
      " [ 7 22 32]\n",
      " [22 47 42]]\n"
     ]
    }
   ],
   "source": [
    "print(B @ C)"
   ]
  },
  {
   "cell_type": "markdown",
   "metadata": {},
   "source": [
    "### c. (2 points)\n",
    "Use the appropriate method from `np.linalg` to find the determinant of $B$.  Print the value of the determinant in a nicely formatted sentence similar to the one below.\n",
    "\n",
    "```\n",
    "The determinant of B is 45.00.\n",
    "```\n",
    "\n",
    "For full credit, the determinant value **must** be displayed with 2 decimal places of precision."
   ]
  },
  {
   "cell_type": "code",
   "execution_count": 6,
   "metadata": {},
   "outputs": [
    {
     "name": "stdout",
     "output_type": "stream",
     "text": [
      "The determinant of B is 96.00.\n"
     ]
    }
   ],
   "source": [
    "import numpy as np\n",
    "\n",
    "# Write your answer to Problem 4c below\n",
    "print(f\"The determinant of B is {np.linalg.det(B):.2f}.\")"
   ]
  },
  {
   "cell_type": "markdown",
   "metadata": {},
   "source": [
    "---"
   ]
  },
  {
   "cell_type": "markdown",
   "metadata": {
    "hide_cell": true
   },
   "source": [
    "## When you're finished"
   ]
  },
  {
   "cell_type": "markdown",
   "metadata": {
    "hide_cell": true
   },
   "source": [
    "* Select **Cell &#8594; Run All**  to run all the cells from top to bottom. Make sure your notebook runs as you expect before submitting it.\n",
    "\n",
    "* Submit this file using the SM286D Assignment Submission Form linked on the [class website](https://www.usna.edu/Users/math/uhan/sm286d/)."
   ]
  }
 ],
 "metadata": {
  "kernelspec": {
   "display_name": "Python 3",
   "language": "python",
   "name": "python3"
  },
  "language_info": {
   "codemirror_mode": {
    "name": "ipython",
    "version": 3
   },
   "file_extension": ".py",
   "mimetype": "text/x-python",
   "name": "python",
   "nbconvert_exporter": "python",
   "pygments_lexer": "ipython3",
   "version": "3.7.6"
  }
 },
 "nbformat": 4,
 "nbformat_minor": 2
}
